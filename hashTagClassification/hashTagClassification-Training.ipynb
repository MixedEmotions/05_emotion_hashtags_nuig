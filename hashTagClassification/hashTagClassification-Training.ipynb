{
 "cells": [
  {
   "cell_type": "markdown",
   "metadata": {},
   "source": [
    "# Training Classifier on HashTag data"
   ]
  },
  {
   "cell_type": "code",
   "execution_count": 1,
   "metadata": {
    "collapsed": false
   },
   "outputs": [
    {
     "name": "stdout",
     "output_type": "stream",
     "text": [
      "imported regex as re\n"
     ]
    }
   ],
   "source": [
    "from nltk.tokenize import TweetTokenizer\n",
    "import nltk.tokenize.casual as casual\n",
    "from drevicko.twitter_regexes import cleanString, setupRegexes, tweetPreprocessor\n",
    "import preprocess_twitter\n",
    "\n",
    "def preprocess_tweet(text):\n",
    "    \n",
    "    text = casual.reduce_lengthening(text)\n",
    "    text = cleanString(setupRegexes('twitterProAna'),text)   \n",
    "    text = ' '.join([span for notentity,span in tweetPreprocessor(text, (\"urls\", \"users\", \"lists\")) if notentity])\n",
    "    text = text.replace('\\t','')\n",
    "    text = text.replace('< ','<')\n",
    "    text = text.replace(' >','>')\n",
    "    text = text.replace('):', '<sadface>')\n",
    "    text = text.replace('(:', '<smile>')\n",
    "    return text\n",
    "\n",
    "def tokenise_tweet(text):\n",
    "    text = preprocess_twitter.tokenize(text)\n",
    "    text = preprocess_tweet(text)     \n",
    "    return ' '.join(text.split())\n",
    "\n",
    "emoNames = ['sadness', 'disgust', 'surprise', 'anger', 'fear', 'joy']"
   ]
  },
  {
   "cell_type": "code",
   "execution_count": null,
   "metadata": {
    "collapsed": true
   },
   "outputs": [],
   "source": [
    "import subprocess\n",
    "\n",
    "subprocess.run( ['wget', 'http://saifmohammad.com/WebDocs/Jan9-2012-tweets-clean.txt.zip'], stdout=subprocess.PIPE )\n",
    "subprocess.run( ['unzip', 'Jan9-2012-tweets-clean.txt.zip'], stdout=subprocess.PIPE )"
   ]
  },
  {
   "cell_type": "code",
   "execution_count": 2,
   "metadata": {
    "collapsed": false
   },
   "outputs": [],
   "source": [
    "from collections import defaultdict\n",
    "import numpy as np\n",
    "\n",
    "def _load_data(filename = \"Jan9-2012-tweets-clean.txt\", preprocess=True):\n",
    "\n",
    "    lines, tweets_id, tweets_text = [],[],[]\n",
    "\n",
    "    for line in open(filename, 'rb'):\n",
    "\n",
    "        line = line.decode(\"utf-8\")\n",
    "        tw_id = line[0:17]\n",
    "        tweets_id.append(tw_id)    \n",
    "        tw_text, tw_emo = line[19:].split(\"\\t:: \")\n",
    "        \n",
    "        if(preprocess):\n",
    "            tw_text = tokenise_tweet(tw_text)\n",
    "        \n",
    "        lines.append((tw_text,tw_emo.strip()))\n",
    "        tweets_text.append(tw_text)\n",
    "\n",
    "    tweets_set = defaultdict(lambda : {'tweet':'', 'sadness': 0,  'disgust': 0,'surprise': 0,'anger': 0,'fear': 0,'joy': 0})\n",
    "\n",
    "    for i,t in zip(tweets_id,lines):\n",
    "        tw, emo = t    \n",
    "        tweets_set[i]['tweet'] = tw\n",
    "        tweets_set[i][emo] = 1\n",
    "\n",
    "    tweets,labels = [],[]\n",
    "\n",
    "    for i in tweets_set:\n",
    "        tweets.append(tweets_set[i]['tweet'])\n",
    "        labels.append([tweets_set[i][e] for e in emoNames])\n",
    "    \n",
    "    return(tweets,labels)\n",
    "\n",
    "\n",
    "tweets, labels = _load_data(filename = \"Jan9-2012-tweets-clean.txt\", preprocess=True)"
   ]
  },
  {
   "cell_type": "markdown",
   "metadata": {},
   "source": [
    "## WORD FREQUENCIES"
   ]
  },
  {
   "cell_type": "code",
   "execution_count": 4,
   "metadata": {
    "collapsed": false
   },
   "outputs": [
    {
     "name": "stdout",
     "output_type": "stream",
     "text": [
      "7531 27160\n",
      "Populating the interactive namespace from numpy and matplotlib\n"
     ]
    },
    {
     "data": {
      "image/png": "[encoded data removed]",
      "text/plain": [
       "<matplotlib.figure.Figure at 0x7f7554232cc0>"
      ]
     },
     "metadata": {},
     "output_type": "display_data"
    }
   ],
   "source": [
    "from collections import Counter\n",
    "from stop_words import get_stop_words\n",
    "WORD_FREQUENCY_TRESHOLD = 3\n",
    "\n",
    "import os\n",
    "from sklearn.externals import joblib\n",
    "\n",
    "\n",
    "def ifExists(filename):\n",
    "    dir = os.path.dirname(filename)\n",
    "    try:\n",
    "        os.stat(dir)\n",
    "    except:\n",
    "        os.mkdir(dir) \n",
    "        \n",
    "def checkFolder(filename):\n",
    "    dir = os.path.dirname(filename)\n",
    "    try:\n",
    "        os.stat(dir)\n",
    "    except:\n",
    "        os.mkdir(dir) \n",
    "\n",
    "def _get_unique_tokens(tweets):    \n",
    "    return(Counter(token for tweet in tweets for token in tweet.split()))\n",
    "\n",
    "def _save_unique_tokens(tokens, filename='uniqueTokens.dump'):\n",
    "    \n",
    "    checkFolder(filename)\n",
    "    _ = joblib.dump(tokens, filename=filename, compress=9)\n",
    "    \n",
    "\n",
    "def _plot_word_frequiencies(uniqueTokens, WORD_FREQUENCY_TRESHOLD = 3):\n",
    "    \n",
    "    freqs = []\n",
    "    for t,c in uniqueTokens.items():\n",
    "        freqs.append(c)\n",
    "        \n",
    "    q = 0\n",
    "    for t,c in uniqueTokens.items():\n",
    "        if(c >= WORD_FREQUENCY_TRESHOLD):\n",
    "            q+=1\n",
    "    print(q, len(uniqueTokens))\n",
    "    %pylab inline\n",
    "    semilogy(arange(len(freqs)),sorted(freqs))\n",
    "    show()\n",
    "    \n",
    "\n",
    "def _reduce_text(text, LANGUAGE='en', WORD_FREQUENCY_TRESHOLD = 3):    \n",
    "\n",
    "    stop_words = get_stop_words(LANGUAGE)\n",
    "\n",
    "    tweets_reduced = []\n",
    "\n",
    "    for tw in tweets:\n",
    "        tweet_r = []\n",
    "        for token in tw.split():\n",
    "            if(uniqueTokens[token] >= WORD_FREQUENCY_TRESHOLD):\n",
    "                if(not token in stop_words):\n",
    "                    tweet_r.append(token)\n",
    "\n",
    "        tweets_reduced.append( ' '.join(tweet_r)  )\n",
    "        \n",
    "    return(tweets_reduced)\n",
    "\n",
    "uniqueTokens = _get_unique_tokens(tweets)\n",
    "# _save_unique_tokens(tokens=uniqueTokens,filename = '/home/vlaand/IpythonNotebooks/cf-5point-data/uniqueTokens.dump')\n",
    "\n",
    "_save_unique_tokens(tokens=uniqueTokens,filename = '/home/vlaand/IpythonNotebooks/05_emotion_hashtags_nuig/hashTagClassification/wordFrequencies.dump')\n",
    "_plot_word_frequiencies(uniqueTokens, WORD_FREQUENCY_TRESHOLD = WORD_FREQUENCY_TRESHOLD)\n",
    "tweets_reduced = _reduce_text(tweets, WORD_FREQUENCY_TRESHOLD = WORD_FREQUENCY_TRESHOLD)"
   ]
  },
  {
   "cell_type": "code",
   "execution_count": 5,
   "metadata": {
    "collapsed": false
   },
   "outputs": [
    {
     "name": "stdout",
     "output_type": "stream",
     "text": [
      "7411 7411\n",
      "Populating the interactive namespace from numpy and matplotlib\n"
     ]
    },
    {
     "data": {
      "image/png": "[encoded data removed]",
      "text/plain": [
       "<matplotlib.figure.Figure at 0x7f7554011f98>"
      ]
     },
     "metadata": {},
     "output_type": "display_data"
    }
   ],
   "source": [
    "_plot_word_frequiencies(_get_unique_tokens(tweets_reduced), WORD_FREQUENCY_TRESHOLD = WORD_FREQUENCY_TRESHOLD)"
   ]
  },
  {
   "cell_type": "markdown",
   "metadata": {},
   "source": [
    "## WORD EMBEDDINGS"
   ]
  },
  {
   "cell_type": "code",
   "execution_count": 6,
   "metadata": {
    "collapsed": false
   },
   "outputs": [
    {
     "name": "stdout",
     "output_type": "stream",
     "text": [
      "21760 tokens in we\n"
     ]
    }
   ],
   "source": [
    "EMBEDDINGS_DIM = 100\n",
    "\n",
    "def _load_original_vectors(filename = 'wordvectors-glove.twitter.27B.200d.txt', sep = ' ', uniqueTokens = None):\n",
    "\n",
    "    Dictionary = {}\n",
    "    \n",
    "    for line in open(filename, 'rb'): \n",
    "        line_d = line.decode('utf-8').split(sep)\n",
    "        token = line_d[0]\n",
    "        \n",
    "        token_vector = np.array(line_d[1:], dtype = 'float32')   \n",
    "        if(uniqueTokens):\n",
    "            if(token in uniqueTokens):                \n",
    "                Dictionary[token] = token_vector\n",
    "        else:\n",
    "            Dictionary[token] = token_vector\n",
    "        \n",
    "            \n",
    "    return(Dictionary)\n",
    "\n",
    "# uniqueTokens param is for reading the WE vectors that are present in the text\n",
    "Dictionary = _load_original_vectors(filename = '/home/vlaand/data/Glove/glove.twitter.27B/glove.twitter.27B.'+str(EMBEDDINGS_DIM)+'d.txt', sep = ' ', uniqueTokens=uniqueTokens)\n",
    "print(len(Dictionary),'tokens in we')"
   ]
  },
  {
   "cell_type": "markdown",
   "metadata": {},
   "source": [
    "## N-GRAMS"
   ]
  },
  {
   "cell_type": "code",
   "execution_count": 7,
   "metadata": {
    "collapsed": false
   },
   "outputs": [
    {
     "name": "stdout",
     "output_type": "stream",
     "text": [
      "NGRAM_VALUE = 4\n"
     ]
    }
   ],
   "source": [
    "from sklearn.feature_extraction.text import CountVectorizer\n",
    "NGRAM_VALUE = 4\n",
    "\n",
    "print('NGRAM_VALUE =',NGRAM_VALUE)"
   ]
  },
  {
   "cell_type": "markdown",
   "metadata": {},
   "source": [
    "#### Save ngramizer"
   ]
  },
  {
   "cell_type": "code",
   "execution_count": 8,
   "metadata": {
    "collapsed": false
   },
   "outputs": [
    {
     "name": "stdout",
     "output_type": "stream",
     "text": [
      "21009 18590\n",
      "/home/vlaand/IpythonNotebooks/hashtag-data/ngramizers/ngramizer.dump saved\n",
      "/home/vlaand/IpythonNotebooks/05_emotion_hashtags_nuig/hashTagClassification/ngramizers/ngramizer.dump saved\n"
     ]
    }
   ],
   "source": [
    "def _save_ngramizer(ngramizer, filename = 'ngramizer.dump'):\n",
    "    checkFolder(filename)\n",
    "    _ = joblib.dump(ngramizer, filename=filename, compress=9)\n",
    "    print(filename+' saved')\n",
    "    \n",
    "vectorizer = CountVectorizer(ngram_range = (1,NGRAM_VALUE),token_pattern=r'\\b\\w+\\b', min_df=WORD_FREQUENCY_TRESHOLD)\n",
    "ngramizer = vectorizer.fit(tweets_reduced)\n",
    "vec = ngramizer.transform(tweets_reduced).toarray()\n",
    "print(len(vec), len(vec[0]))\n",
    "    \n",
    "_save_ngramizer(ngramizer = ngramizer, filename = '/home/vlaand/IpythonNotebooks/hashtag-data/ngramizers/ngramizer.dump')\n",
    "_save_ngramizer(ngramizer = ngramizer, filename = '/home/vlaand/IpythonNotebooks/05_emotion_hashtags_nuig/hashTagClassification/ngramizers/ngramizer.dump')"
   ]
  },
  {
   "cell_type": "markdown",
   "metadata": {},
   "source": [
    "#### Load ngramizer"
   ]
  },
  {
   "cell_type": "code",
   "execution_count": 9,
   "metadata": {
    "collapsed": false
   },
   "outputs": [
    {
     "name": "stdout",
     "output_type": "stream",
     "text": [
      "/home/vlaand/IpythonNotebooks/05_emotion_hashtags_nuig/hashTagClassification/ngramizers/ngramizer.dump loaded\n",
      "21009 18590\n"
     ]
    }
   ],
   "source": [
    "def _load_ngramizer(filename = 'ngramizer.dump'):\n",
    "    checkFolder(filename)\n",
    "    ngramizer = joblib.load(filename = filename)\n",
    "    print(filename+' loaded')\n",
    "    return ngramizer\n",
    "\n",
    "ngramizer = _load_ngramizer('/home/vlaand/IpythonNotebooks/05_emotion_hashtags_nuig/hashTagClassification/ngramizers/ngramizer.dump')\n",
    "vec = ngramizer.transform(tweets_reduced).toarray()\n",
    "print(len(vec), len(vec[0]))"
   ]
  },
  {
   "cell_type": "markdown",
   "metadata": {},
   "source": [
    "# SVM"
   ]
  },
  {
   "cell_type": "markdown",
   "metadata": {},
   "source": [
    "## Vector Transformations"
   ]
  },
  {
   "cell_type": "code",
   "execution_count": 10,
   "metadata": {
    "collapsed": false
   },
   "outputs": [
    {
     "name": "stdout",
     "output_type": "stream",
     "text": [
      "21009 18892 21009 6\n"
     ]
    }
   ],
   "source": [
    "import numpy as np\n",
    "import math, itertools\n",
    "from scipy import spatial\n",
    "\n",
    "def _vectors_similarity(v1 , v2):\n",
    "    return( 1 - spatial.distance.cosine(v1,v2) )\n",
    "\n",
    "def capitalRatio(tweet):\n",
    "    \n",
    "        firstCap, allCap = 0, 0\n",
    "        length = len(tweet)\n",
    "        if length==0:\n",
    "            return np.array([0,0])\n",
    "\n",
    "        for i,token in enumerate(tweet.split()):\n",
    "            if( token.istitle() ):\n",
    "                firstCap += 1\n",
    "            elif( token.isupper() ):\n",
    "                allCap += 1\n",
    "        return(np.asarray([firstCap/length,allCap/length]))  \n",
    "        \n",
    "\n",
    "def tweetToWordVectors(dictionary, tweet, fixedLength=False):\n",
    "    output = []    \n",
    "    if(fixedLength):\n",
    "        for i in range(MAX_SEQUENCE_LENGTH):\n",
    "            output.append(blankVector)\n",
    "        for i,token in enumerate(tweet.split()):\n",
    "            if token in Dictionary:\n",
    "                output[i] = Dictionary[token]                \n",
    "    else:\n",
    "         for i,token in enumerate(tweet.lower().split()):\n",
    "            if token in Dictionary:\n",
    "                output.append(Dictionary[token])            \n",
    "    return(output)\n",
    "\n",
    "def ModWordVectors(x, mod=True):\n",
    "    if(len(x) == 0):       \n",
    "        if(mod):\n",
    "            return(np.zeros(EMBEDDINGS_DIM*3, dtype='float32'))\n",
    "        else:\n",
    "            return(np.zeros(EMBEDDINGS_DIM, dtype='float32'))        \n",
    "    m =  np.matrix(x)\n",
    "    if(mod):\n",
    "        xMean = np.array(m.mean(0))[0]\n",
    "        xMin = np.array(m.min(0))[0]\n",
    "        xMax = np.array(m.max(0))[0]\n",
    "        xX = np.concatenate((xMean,xMin,xMax))\n",
    "        return(xX)\n",
    "    else:\n",
    "        return(np.array(m.mean(0))[0])\n",
    "\n",
    "def bindTwoVectors(x0,x1):\n",
    "    xX = np.array(list(itertools.chain(x0,x1)),dtype='float32')\n",
    "    return(xX)   \n",
    "\n",
    "def _bind_vectors(x):\n",
    "    xX = np.concatenate(x)\n",
    "    return(xX)     \n",
    "\n",
    "def _convert_text_to_vector(tweets, tweet_original,  Dictionary):\n",
    "\n",
    "    X = []\n",
    "    y = []\n",
    "    for i, t in enumerate(tweets): \n",
    "        embeddingsVector = ModWordVectors(tweetToWordVectors(Dictionary,tweets[i]))\n",
    "        capitalRatioVector = capitalRatio(tweet_original[i])\n",
    "        ngramVector = vec[i]\n",
    "        X.append( _bind_vectors((ngramVector, capitalRatioVector, embeddingsVector))  )\n",
    "        y.append(labels[i])\n",
    "    \n",
    "    return(np.asarray(X), y)\n",
    "\n",
    "\n",
    "X,y = _convert_text_to_vector(tweets = tweets_reduced, tweet_original = tweets, Dictionary = Dictionary)\n",
    "  \n",
    "print(len(X), len(X[0]), len(y), len(y[0]))"
   ]
  },
  {
   "cell_type": "markdown",
   "metadata": {},
   "source": [
    "## GridSearch"
   ]
  },
  {
   "cell_type": "code",
   "execution_count": 57,
   "metadata": {
    "collapsed": false
   },
   "outputs": [
    {
     "name": "stdout",
     "output_type": "stream",
     "text": [
      "anger: C=0.001, tol=1e-06, score=0.139903381643\n",
      "surprise: C=0.001, tol=1e-06, score=0.32\n",
      "fear: C=0.001, tol=1e-06, score=0.139903381643\n",
      "disgust: C=0.001, tol=1e-06, score=0.0\n",
      "joy: C=0.001, tol=1e-06, score=0.0\n",
      "sadness: C=0.001, tol=1e-06, score=0.125490196078\n",
      "anger: C=0.01, tol=1e-06, score=0.0\n",
      "surprise: C=0.01, tol=1e-06, score=0.0\n",
      "disgust: C=0.01, tol=1e-06, score=0.0\n",
      "fear: C=0.01, tol=1e-06, score=0.0\n",
      "sadness: C=0.01, tol=1e-06, score=0.0\n",
      "joy: C=0.01, tol=1e-06, score=0.0\n",
      "anger: C=0.1, tol=1e-06, score=0.139903381643\n",
      "surprise: C=0.1, tol=1e-06, score=0.216752136752\n",
      "disgust: C=0.1, tol=1e-06, score=0.0563636363636\n",
      "sadness: C=0.1, tol=1e-06, score=0.0\n",
      "fear: C=0.1, tol=1e-06, score=0.139903381643\n",
      "joy: C=0.1, tol=1e-06, score=0.0\n",
      "anger: C=1.0, tol=1e-06, score=0.148666666667\n",
      "surprise: C=1.0, tol=1e-06, score=0.133333333333\n",
      "disgust: C=1.0, tol=1e-06, score=0.0210526315789\n",
      "sadness: C=1.0, tol=1e-06, score=0.0\n",
      "joy: C=1.0, tol=1e-06, score=0.11826625387\n",
      "fear: C=1.0, tol=1e-06, score=0.447619047619\n",
      "anger: C=0.001, tol=1e-05, score=0.139903381643\n",
      "surprise: C=0.001, tol=1e-05, score=0.32\n",
      "disgust: C=0.001, tol=1e-05, score=0.0\n",
      "sadness: C=0.001, tol=1e-05, score=0.125490196078\n",
      "anger: C=0.01, tol=1e-05, score=0.0\n",
      "fear: C=0.001, tol=1e-05, score=0.139903381643\n",
      "joy: C=0.001, tol=1e-05, score=0.0\n",
      "disgust: C=0.01, tol=1e-05, score=0.0\n",
      "surprise: C=0.01, tol=1e-05, score=0.0\n",
      "sadness: C=0.01, tol=1e-05, score=0.0\n",
      "anger: C=0.1, tol=1e-05, score=0.139903381643\n",
      "fear: C=0.01, tol=1e-05, score=0.0\n",
      "joy: C=0.01, tol=1e-05, score=0.0\n",
      "disgust: C=0.1, tol=1e-05, score=0.0563636363636\n",
      "surprise: C=0.1, tol=1e-05, score=0.216752136752\n",
      "anger: C=1.0, tol=1e-05, score=0.148666666667\n",
      "sadness: C=0.1, tol=1e-05, score=0.0\n",
      "fear: C=0.1, tol=1e-05, score=0.139903381643\n",
      "joy: C=0.1, tol=1e-05, score=0.0\n",
      "disgust: C=1.0, tol=1e-05, score=0.0210526315789\n",
      "surprise: C=1.0, tol=1e-05, score=0.133333333333\n",
      "anger: C=0.001, tol=0.0001, score=0.139903381643\n",
      "sadness: C=1.0, tol=1e-05, score=0.0\n",
      "fear: C=1.0, tol=1e-05, score=0.447619047619\n",
      "joy: C=1.0, tol=1e-05, score=0.11826625387\n",
      "anger: C=0.01, tol=0.0001, score=0.0\n",
      "surprise: C=0.001, tol=0.0001, score=0.32\n",
      "disgust: C=0.001, tol=0.0001, score=0.0\n",
      "sadness: C=0.001, tol=0.0001, score=0.125490196078\n",
      "fear: C=0.001, tol=0.0001, score=0.139903381643\n",
      "anger: C=0.1, tol=0.0001, score=0.139903381643\n",
      "joy: C=0.001, tol=0.0001, score=0.0\n",
      "surprise: C=0.01, tol=0.0001, score=0.0\n",
      "disgust: C=0.01, tol=0.0001, score=0.0\n",
      "fear: C=0.01, tol=0.0001, score=0.0\n",
      "sadness: C=0.01, tol=0.0001, score=0.0\n",
      "anger: C=1.0, tol=0.0001, score=0.148666666667\n",
      "joy: C=0.01, tol=0.0001, score=0.0\n",
      "surprise: C=0.1, tol=0.0001, score=0.216752136752\n",
      "disgust: C=0.1, tol=0.0001, score=0.0563636363636\n",
      "anger: C=0.001, tol=1e-06, score=0.139903381643\n",
      "fear: C=0.1, tol=0.0001, score=0.139903381643\n",
      "sadness: C=0.1, tol=0.0001, score=0.0\n",
      "joy: C=0.1, tol=0.0001, score=0.0\n",
      "surprise: C=1.0, tol=0.0001, score=0.133333333333\n",
      "disgust: C=1.0, tol=0.0001, score=0.0210526315789\n",
      "anger: C=0.01, tol=1e-06, score=0.0\n",
      "fear: C=1.0, tol=0.0001, score=0.447619047619\n",
      "sadness: C=1.0, tol=0.0001, score=0.0\n",
      "joy: C=1.0, tol=0.0001, score=0.11826625387\n",
      "surprise: C=0.001, tol=1e-06, score=0.32\n",
      "anger: C=0.1, tol=1e-06, score=0.139903381643\n",
      "disgust: C=0.001, tol=1e-06, score=0.0\n",
      "fear: C=0.001, tol=1e-06, score=0.181570048309\n",
      "sadness: C=0.001, tol=1e-06, score=0.125490196078\n",
      "anger: C=1.0, tol=1e-06, score=0.0666666666667\n",
      "joy: C=0.001, tol=1e-06, score=0.0\n",
      "surprise: C=0.01, tol=1e-06, score=0.0\n",
      "disgust: C=0.01, tol=1e-06, score=0.0\n",
      "fear: C=0.01, tol=1e-06, score=0.0\n",
      "anger: C=0.001, tol=1e-05, score=0.139903381643\n",
      "sadness: C=0.01, tol=1e-06, score=0.0\n",
      "joy: C=0.01, tol=1e-06, score=0.0\n",
      "surprise: C=0.1, tol=1e-06, score=0.154141414141\n",
      "disgust: C=0.1, tol=1e-06, score=0.146666666667\n",
      "fear: C=0.1, tol=1e-06, score=0.302051499717\n",
      "anger: C=0.01, tol=1e-05, score=0.0\n",
      "disgust: C=1.0, tol=1e-06, score=0.0\n",
      "sadness: C=0.1, tol=1e-06, score=0.0\n",
      "surprise: C=1.0, tol=1e-06, score=0.293333333333\n",
      "joy: C=0.1, tol=1e-06, score=0.0\n",
      "fear: C=1.0, tol=1e-06, score=0.394285714286\n",
      "anger: C=0.1, tol=1e-05, score=0.139903381643\n",
      "disgust: C=0.001, tol=1e-05, score=0.0\n",
      "sadness: C=1.0, tol=1e-06, score=0.426153846154\n",
      "anger: C=1.0, tol=1e-05, score=0.0666666666667\n",
      "surprise: C=0.001, tol=1e-05, score=0.32\n",
      "joy: C=1.0, tol=1e-06, score=0.564680756396\n",
      "fear: C=0.001, tol=1e-05, score=0.181570048309\n",
      "disgust: C=0.01, tol=1e-05, score=0.0\n",
      "anger: C=0.001, tol=0.0001, score=0.139903381643\n",
      "sadness: C=0.001, tol=1e-05, score=0.125490196078\n",
      "surprise: C=0.01, tol=1e-05, score=0.0\n",
      "joy: C=0.001, tol=1e-05, score=0.0\n",
      "fear: C=0.01, tol=1e-05, score=0.0\n",
      "anger: C=0.01, tol=0.0001, score=0.0\n",
      "disgust: C=0.1, tol=1e-05, score=0.146666666667\n",
      "sadness: C=0.01, tol=1e-05, score=0.0\n",
      "surprise: C=0.1, tol=1e-05, score=0.154141414141\n",
      "fear: C=0.1, tol=1e-05, score=0.302051499717\n",
      "joy: C=0.01, tol=1e-05, score=0.0\n",
      "disgust: C=1.0, tol=1e-05, score=0.0\n",
      "anger: C=0.1, tol=0.0001, score=0.139903381643\n",
      "fear: C=1.0, tol=1e-05, score=0.394285714286\n",
      "sadness: C=0.1, tol=1e-05, score=0.0\n",
      "surprise: C=1.0, tol=1e-05, score=0.293333333333\n",
      "joy: C=0.1, tol=1e-05, score=0.0\n",
      "anger: C=1.0, tol=0.0001, score=0.0666666666667\n",
      "disgust: C=0.001, tol=0.0001, score=0.0\n",
      "fear: C=0.001, tol=0.0001, score=0.181570048309\n",
      "sadness: C=1.0, tol=1e-05, score=0.426153846154\n",
      "anger: C=0.001, tol=1e-06, score=0.181570048309\n",
      "surprise: C=0.001, tol=0.0001, score=0.32\n",
      "joy: C=1.0, tol=1e-05, score=0.564680756396\n",
      "disgust: C=0.01, tol=0.0001, score=0.0\n",
      "anger: C=0.01, tol=1e-06, score=0.0\n",
      "fear: C=0.01, tol=0.0001, score=0.0\n",
      "surprise: C=0.01, tol=0.0001, score=0.0\n",
      "sadness: C=0.001, tol=0.0001, score=0.125490196078\n",
      "joy: C=0.001, tol=0.0001, score=0.0\n",
      "disgust: C=0.1, tol=0.0001, score=0.146666666667\n",
      "anger: C=0.1, tol=1e-06, score=0.139903381643\n",
      "fear: C=0.1, tol=0.0001, score=0.302051499717\n",
      "surprise: C=0.1, tol=0.0001, score=0.154141414141\n",
      "disgust: C=1.0, tol=0.0001, score=0.0\n",
      "sadness: C=0.01, tol=0.0001, score=0.0\n",
      "joy: C=0.01, tol=0.0001, score=0.0\n",
      "anger: C=1.0, tol=1e-06, score=0.0\n",
      "fear: C=1.0, tol=0.0001, score=0.394285714286\n",
      "surprise: C=1.0, tol=0.0001, score=0.293333333333\n",
      "disgust: C=0.001, tol=1e-06, score=0.0\n",
      "sadness: C=0.1, tol=0.0001, score=0.0\n",
      "joy: C=0.1, tol=0.0001, score=0.0\n",
      "anger: C=0.001, tol=1e-05, score=0.181570048309\n",
      "fear: C=0.001, tol=1e-06, score=0.181570048309\n",
      "surprise: C=0.001, tol=1e-06, score=0.32\n",
      "sadness: C=1.0, tol=0.0001, score=0.426153846154\n",
      "disgust: C=0.01, tol=1e-06, score=0.0\n",
      "anger: C=0.01, tol=1e-05, score=0.0\n",
      "joy: C=1.0, tol=0.0001, score=0.564680756396\n",
      "fear: C=0.01, tol=1e-06, score=0.0\n",
      "surprise: C=0.01, tol=1e-06, score=0.0\n",
      "anger: C=0.1, tol=1e-05, score=0.139903381643\n",
      "disgust: C=0.1, tol=1e-06, score=0.0\n",
      "sadness: C=0.001, tol=1e-06, score=0.125490196078\n",
      "joy: C=0.001, tol=1e-06, score=0.0\n",
      "fear: C=0.1, tol=1e-06, score=0.0703381642512\n",
      "anger: C=1.0, tol=1e-05, score=0.0\n",
      "surprise: C=0.1, tol=1e-06, score=0.0\n",
      "disgust: C=1.0, tol=1e-06, score=0.0\n",
      "sadness: C=0.01, tol=1e-06, score=0.0\n",
      "joy: C=0.01, tol=1e-06, score=0.0\n",
      "fear: C=1.0, tol=1e-06, score=0.146666666667\n",
      "anger: C=0.001, tol=0.0001, score=0.181570048309\n",
      "surprise: C=1.0, tol=1e-06, score=0.0\n",
      "disgust: C=0.001, tol=1e-05, score=0.0\n",
      "sadness: C=0.1, tol=1e-06, score=0.0\n",
      "joy: C=0.1, tol=1e-06, score=0.0\n",
      "fear: C=0.001, tol=1e-05, score=0.181570048309\n",
      "anger: C=0.01, tol=0.0001, score=0.0\n",
      "surprise: C=0.001, tol=1e-05, score=0.32\n",
      "disgust: C=0.01, tol=1e-05, score=0.0\n",
      "joy: C=1.0, tol=1e-06, score=0.0470588235294\n",
      "sadness: C=1.0, tol=1e-06, score=0.0\n",
      "anger: C=0.1, tol=0.0001, score=0.139903381643\n",
      "fear: C=0.01, tol=1e-05, score=0.0\n",
      "surprise: C=0.01, tol=1e-05, score=0.0\n",
      "disgust: C=0.1, tol=1e-05, score=0.0\n",
      "anger: C=1.0, tol=0.0001, score=0.0\n",
      "joy: C=0.001, tol=1e-05, score=0.0\n",
      "sadness: C=0.001, tol=1e-05, score=0.125490196078\n",
      "fear: C=0.1, tol=1e-05, score=0.0703381642512\n",
      "surprise: C=0.1, tol=1e-05, score=0.0\n",
      "anger: C=0.001, tol=1e-06, score=0.181570048309\n",
      "disgust: C=1.0, tol=1e-05, score=0.0\n",
      "joy: C=0.01, tol=1e-05, score=0.0\n",
      "fear: C=1.0, tol=1e-05, score=0.146666666667\n",
      "sadness: C=0.01, tol=1e-05, score=0.0\n",
      "anger: C=0.01, tol=1e-06, score=0.0\n",
      "surprise: C=1.0, tol=1e-05, score=0.0\n",
      "disgust: C=0.001, tol=0.0001, score=0.0\n",
      "fear: C=0.001, tol=0.0001, score=0.181570048309\n",
      "joy: C=0.1, tol=1e-05, score=0.0\n",
      "sadness: C=0.1, tol=1e-05, score=0.0\n",
      "anger: C=0.1, tol=1e-06, score=0.139903381643\n",
      "surprise: C=0.001, tol=0.0001, score=0.32\n",
      "disgust: C=0.01, tol=0.0001, score=0.0\n",
      "fear: C=0.01, tol=0.0001, score=0.0\n",
      "joy: C=1.0, tol=1e-05, score=0.0470588235294\n",
      "anger: C=1.0, tol=1e-06, score=0.0\n",
      "sadness: C=1.0, tol=1e-05, score=0.0\n",
      "surprise: C=0.01, tol=0.0001, score=0.0\n",
      "disgust: C=0.1, tol=0.0001, score=0.0\n",
      "anger: C=0.001, tol=1e-05, score=0.181570048309\n",
      "fear: C=0.1, tol=0.0001, score=0.0703381642512\n",
      "joy: C=0.001, tol=0.0001, score=0.0\n",
      "sadness: C=0.001, tol=0.0001, score=0.125490196078\n",
      "surprise: C=0.1, tol=0.0001, score=0.0\n",
      "disgust: C=1.0, tol=0.0001, score=0.0\n",
      "anger: C=0.01, tol=1e-05, score=0.0\n",
      "fear: C=1.0, tol=0.0001, score=0.146666666667\n",
      "joy: C=0.01, tol=0.0001, score=0.0\n",
      "sadness: C=0.01, tol=0.0001, score=0.0\n",
      "surprise: C=1.0, tol=0.0001, score=0.0\n",
      "anger: C=0.1, tol=1e-05, score=0.139903381643\n",
      "disgust: C=0.001, tol=1e-06, score=0.0\n",
      "fear: C=0.001, tol=1e-06, score=0.181570048309\n",
      "joy: C=0.1, tol=0.0001, score=0.0\n",
      "anger: C=1.0, tol=1e-05, score=0.0\n",
      "sadness: C=0.1, tol=0.0001, score=0.0\n",
      "surprise: C=0.001, tol=1e-06, score=0.32\n",
      "disgust: C=0.01, tol=1e-06, score=0.0\n",
      "fear: C=0.01, tol=1e-06, score=0.0\n",
      "joy: C=1.0, tol=0.0001, score=0.0470588235294\n",
      "anger: C=0.001, tol=0.0001, score=0.181570048309\n",
      "sadness: C=1.0, tol=0.0001, score=0.0\n",
      "surprise: C=0.01, tol=1e-06, score=0.0\n",
      "disgust: C=0.1, tol=1e-06, score=0.0\n",
      "fear: C=0.1, tol=1e-06, score=0.14148440931\n",
      "anger: C=0.01, tol=0.0001, score=0.0\n",
      "joy: C=0.001, tol=1e-06, score=0.0\n",
      "surprise: C=0.1, tol=1e-06, score=0.0\n",
      "sadness: C=0.001, tol=1e-06, score=0.125490196078\n",
      "disgust: C=1.0, tol=1e-06, score=0.0\n",
      "anger: C=0.1, tol=0.0001, score=0.139903381643\n",
      "fear: C=1.0, tol=1e-06, score=0.146666666667\n",
      "joy: C=0.01, tol=1e-06, score=0.0\n",
      "surprise: C=1.0, tol=1e-06, score=0.0\n",
      "sadness: C=0.01, tol=1e-06, score=0.0\n",
      "disgust: C=0.001, tol=1e-05, score=0.0\n",
      "anger: C=1.0, tol=0.0001, score=0.0\n",
      "['anger', 0.18157004830917872, 'SVC', 0.001, 0.1, 0.001, 1e-06, 4, 200]\n",
      "fear: C=0.001, tol=1e-05, score=0.181570048309\n",
      "joy: C=0.1, tol=1e-06, score=0.0\n",
      "surprise: C=0.001, tol=1e-05, score=0.32\n",
      "disgust: C=0.01, tol=1e-05, score=0.0\n",
      "sadness: C=0.1, tol=1e-06, score=0.0\n",
      "fear: C=0.01, tol=1e-05, score=0.0\n",
      "joy: C=1.0, tol=1e-06, score=0.0470588235294\n",
      "surprise: C=0.01, tol=1e-05, score=0.0\n",
      "disgust: C=0.1, tol=1e-05, score=0.0\n",
      "sadness: C=1.0, tol=1e-06, score=0.0\n",
      "fear: C=0.1, tol=1e-05, score=0.14148440931\n",
      "joy: C=0.001, tol=1e-05, score=0.0\n",
      "surprise: C=0.1, tol=1e-05, score=0.0\n",
      "disgust: C=1.0, tol=1e-05, score=0.0\n",
      "fear: C=1.0, tol=1e-05, score=0.146666666667\n",
      "sadness: C=0.001, tol=1e-05, score=0.125490196078\n",
      "joy: C=0.01, tol=1e-05, score=0.0\n",
      "surprise: C=1.0, tol=1e-05, score=0.0\n",
      "disgust: C=0.001, tol=0.0001, score=0.0\n",
      "fear: C=0.001, tol=0.0001, score=0.181570048309\n",
      "sadness: C=0.01, tol=1e-05, score=0.0\n",
      "joy: C=0.1, tol=1e-05, score=0.0\n",
      "surprise: C=0.001, tol=0.0001, score=0.32\n",
      "disgust: C=0.01, tol=0.0001, score=0.0\n",
      "fear: C=0.01, tol=0.0001, score=0.0\n",
      "sadness: C=0.1, tol=1e-05, score=0.0\n",
      "joy: C=1.0, tol=1e-05, score=0.0470588235294\n",
      "surprise: C=0.01, tol=0.0001, score=0.0\n",
      "fear: C=0.1, tol=0.0001, score=0.14148440931\n",
      "disgust: C=0.1, tol=0.0001, score=0.0\n",
      "sadness: C=1.0, tol=1e-05, score=0.0\n",
      "joy: C=0.001, tol=0.0001, score=0.0\n",
      "surprise: C=0.1, tol=0.0001, score=0.0\n",
      "fear: C=1.0, tol=0.0001, score=0.146666666667\n",
      "['fear', 0.44761904761904764, 'SVC', 1.0, 0.001, 0.001, 1e-06, 4, 200]\n",
      "disgust: C=1.0, tol=0.0001, score=0.0\n",
      "['disgust', 0.14666666666666667, 'SVC', 0.1, 0.01, 0.001, 1e-06, 4, 200]\n",
      "sadness: C=0.001, tol=0.0001, score=0.125490196078\n",
      "joy: C=0.01, tol=0.0001, score=0.0\n",
      "surprise: C=1.0, tol=0.0001, score=0.0\n",
      "['surprise', 0.32000000000000001, 'SVC', 0.001, 0.001, 0.001, 1e-06, 4, 200]\n",
      "sadness: C=0.01, tol=0.0001, score=0.0\n",
      "joy: C=0.1, tol=0.0001, score=0.0\n",
      "sadness: C=0.1, tol=0.0001, score=0.0\n",
      "joy: C=1.0, tol=0.0001, score=0.0470588235294\n",
      "['joy', 0.56468075639599558, 'SVC', 1.0, 0.01, 0.001, 1e-06, 4, 200]\n",
      "sadness: C=1.0, tol=0.0001, score=0.0\n",
      "['sadness', 0.42615384615384605, 'SVC', 1.0, 0.01, 0.001, 1e-06, 4, 200]\n"
     ]
    },
    {
     "data": {
      "text/plain": [
       "[None, None, None, None, None, None]"
      ]
     },
     "execution_count": 57,
     "metadata": {},
     "output_type": "execute_result"
    }
   ],
   "source": [
    "from sklearn.svm import SVC, LinearSVC\n",
    "from sklearn.externals import joblib\n",
    "from sklearn.metrics import f1_score\n",
    "from sklearn.model_selection import cross_val_predict, cross_val_score, train_test_split\n",
    "from collections import Counter\n",
    "from multiprocessing import Pool\n",
    "import warnings\n",
    "\n",
    "warnings.simplefilter('ignore')\n",
    "\n",
    "ESTIMATOR = 'LinearSVC'\n",
    "cv_folds = 5\n",
    "\n",
    "def foo(EMOTION=0):   \n",
    "    rs = np.random.randint(low = 0, high = len(X),size = int(len(X)/100))    \n",
    "    # X, y2 = X[rs], y2[rs]\n",
    "    \n",
    "    y2 = []\n",
    "    for ly in y:   \n",
    "        y2.append(int(ly[EMOTION]))        \n",
    "    y2 = np.asarray(y2)\n",
    "    \n",
    "    if(EMOTION == 5):\n",
    "        foo2(X_3[rs], y2[rs], EMOTION=EMOTION)\n",
    "    elif(EMOTION == 3):\n",
    "        foo2(X_2[rs], y2[rs], EMOTION=EMOTION)\n",
    "    else:\n",
    "        foo2(X[rs], y2[rs], EMOTION=EMOTION)\n",
    "\n",
    "def foo2(X,y,EMOTION=0): \n",
    "           \n",
    "\n",
    "    list_acc = []    \n",
    "    list_val = []\n",
    "        \n",
    "    if(ESTIMATOR == 'LinearSVC'):                             \n",
    "        epsilon = 0.001\n",
    "        gamma=1.0\n",
    "        for tol in [1e-6,1e-5,1e-4]:\n",
    "            for C in [0.01,0.1,1.0]:\n",
    "                cvs = cross_val_score(estimator = LinearSVC(C=C, class_weight='balanced', penalty='l1', dual=False, tol=tol), X=X, y=y, cv=cv_folds, n_jobs=cv_folds, scoring='f1') \n",
    "                meanScore = np.mean(np.asarray(cvs))\n",
    "                list_val.append([emoNames[EMOTION],meanScore,ESTIMATOR, C, gamma,epsilon,tol,NGRAM_VALUE,EMBEDDINGS_DIM])\n",
    "                list_acc.append(meanScore)\n",
    "                print(emoNames[EMOTION]+': C='+str(C)+', tol='+str(tol)+', score='+str(meanScore))\n",
    "        best = np.argmax(list_acc)\n",
    "        print(list_val[best])\n",
    "        \n",
    "    elif(ESTIMATOR == 'SVC'):                          \n",
    "        epsilon = 0.001\n",
    "        for gamma in [0.001,0.01,0.1,1.0]:\n",
    "            for tol in [1e-6,1e-5,1e-4]:\n",
    "                for C in [0.001,0.01,0.1,1.0]:\n",
    "                    cvs = cross_val_score(estimator = SVC(C=C, class_weight='balanced', tol=tol, gamma=gamma), X=X, y=y, cv=cv_folds, n_jobs=cv_folds, scoring='f1') \n",
    "                    meanScore = np.mean(np.asarray(cvs))\n",
    "                    list_val.append([emoNames[EMOTION],meanScore,ESTIMATOR, C, gamma,epsilon,tol,NGRAM_VALUE,EMBEDDINGS_DIM])\n",
    "                    list_acc.append(meanScore)\n",
    "                    print(emoNames[EMOTION]+': C='+str(C)+', tol='+str(tol)+', score='+str(meanScore))\n",
    "        best = np.argmax(list_acc)\n",
    "        print(list_val[best])\n",
    "        \n",
    "    return list_val[best]\n",
    "            \n",
    "\n",
    "# print('emotion, f1_score, estimator, C, gamma, epsilon, tol, ngrams, EMBEDDINGS_DIM')  \n",
    "p = Pool(processes = 6)\n",
    "results = p.map(foo, [i for i in  range(len(emoNames))])\n",
    "# foo(5)"
   ]
  },
  {
   "cell_type": "code",
   "execution_count": null,
   "metadata": {
    "collapsed": true
   },
   "outputs": [],
   "source": [
    "['sadness', 0.42615384615384605, 'SVC', 1.0, 0.01, 0.001, 1e-06, 4, 200]\n",
    "['disgust', 0.14666666666666667, 'SVC', 0.1, 0.01, 0.001, 1e-06, 4, 200]\n",
    "['surprise', 0.32000000000000001, 'SVC', 0.001, 0.001, 0.001, 1e-06, 4, 200]\n",
    "['anger', 0.18157004830917872, 'SVC', 0.001, 0.1, 0.001, 1e-06, 4, 200]\n",
    "['fear', 0.44761904761904764, 'SVC', 1.0, 0.001, 0.001, 1e-06, 4, 200]\n",
    "['joy', 0.56468075639599558, 'SVC', 1.0, 0.01, 0.001, 1e-06, 4, 200]\n"
   ]
  },
  {
   "cell_type": "markdown",
   "metadata": {
    "collapsed": false
   },
   "source": [
    "## SAVE CLASSIFIERS"
   ]
  },
  {
   "cell_type": "code",
   "execution_count": 11,
   "metadata": {
    "collapsed": true
   },
   "outputs": [],
   "source": [
    "train_params_linear = {\n",
    "        'sadness': {'C': 0.1, 'tol':1.00E-04},\n",
    "        'disgust': {'C': 0.1, 'tol':1.00E-04},\n",
    "        'surprise': {'C': 0.1, 'tol':1.00E-06},\n",
    "        'anger': {'C': 1.0, 'tol':1.00E-05},\n",
    "        'fear': {'C': 1.0, 'tol':1.00E-04},\n",
    "        'joy': {'C': 0.1, 'tol':1.00E-04}\n",
    "    }\n",
    "\n",
    "train_params_rbf = {\n",
    "        'sadness': {'C': 0.1, 'gamma': 0.01, 'tol':1.00E-05},\n",
    "         'disgust': {'C': 0.1, 'gamma': 0.01, 'tol':1.00E-04},\n",
    "         'surprise': {'C': 0.1, 'gamma': 0.001, 'tol':1.00E-06},\n",
    "         'anger': {'C': 1.0, 'gamma': 0.1, 'tol':1.00E-05},\n",
    "         'fear': {'C': 1.0, 'gamma': 0.001, 'tol':1.00E-05},\n",
    "         'joy': {'C': 0.1, 'gamma': 0.01, 'tol':1.00E-04}\n",
    "    }\n",
    "\n",
    "train_params = {'LinearSVC':train_params_linear, 'SVC':train_params_rbf}"
   ]
  },
  {
   "cell_type": "markdown",
   "metadata": {},
   "source": [
    "## Train and Save the Classifiers"
   ]
  },
  {
   "cell_type": "code",
   "execution_count": null,
   "metadata": {
    "collapsed": false
   },
   "outputs": [],
   "source": [
    "from sklearn.svm import SVC, LinearSVC\n",
    "from sklearn.externals import joblib\n",
    "from multiprocessing import Pool\n",
    "import os\n",
    "# from collections import Counter\n",
    "\n",
    "SEP = '/'\n",
    "EXTENSION = '.dump'\n",
    "ESTIMATOR = 'SVC'\n",
    "\n",
    "def ifExists(filename):\n",
    "    dir = os.path.dirname(filename)\n",
    "    try:\n",
    "        os.stat(dir)\n",
    "    except:\n",
    "        os.mkdir(dir) \n",
    "\n",
    "def trainModelFor(X, y, EMOTION=0):\n",
    "    \n",
    "    y2 = []\n",
    "    for ly in y:  \n",
    "        y2.append(int(ly[EMOTION]))        \n",
    "    y2 = np.asarray(y2)\n",
    "    \n",
    "#     rs = np.random.randint(low = 0, high = len(X),size = int(len(X)/100))    \n",
    "#     X, y2 = X[rs], y2[rs]\n",
    "    \n",
    "    \n",
    "    C = train_params[ESTIMATOR][ emoNames[EMOTION] ]['C'] \n",
    "    tol = train_params[ESTIMATOR][ emoNames[EMOTION] ]['tol']    \n",
    "        \n",
    "    class_weight = 'balanced'     \n",
    "\n",
    "   \n",
    "    if(ESTIMATOR == 'LinearSVC'):\n",
    "        svcTrained = LinearSVC(C=C, class_weight='balanced', penalty='l1', dual=False, tol=tol)\n",
    "        svcTrained.fit(X, y2)\n",
    "    elif(ESTIMATOR == 'SVC'):\n",
    "        gamma = train_params[ESTIMATOR][ emoNames[EMOTION] ]['gamma'] \n",
    "        svcTrained = SVC(C=C, gamma=gamma, class_weight='balanced', tol=tol, probability=True)\n",
    "        svcTrained.fit(X, y2)\n",
    "        \n",
    "    return(svcTrained)\n",
    "\n",
    "def checkFolder(filename):\n",
    "    dir = os.path.dirname(filename)\n",
    "    try:\n",
    "        os.stat(dir)\n",
    "    except:\n",
    "        os.mkdir(dir) \n",
    "\n",
    "def saveModelFor(model, EMOTION=0):\n",
    "    path = '/home/vlaand/IpythonNotebooks/05_emotion_hashtags_nuig/hashTagClassification/classifiers'\n",
    "    path = path +SEP+ESTIMATOR\n",
    "    checkFolder(path)\n",
    "    filename = path + SEP +str(emoNames[EMOTION]) + EXTENSION\n",
    "    checkFolder(filename)\n",
    "    _ = joblib.dump(model, filename, compress=9)\n",
    "\n",
    "    print('model ' + filename + ' saved')\n",
    "    \n",
    "def trainAndSave(emotion):\n",
    "#     if(emotion == 5):\n",
    "#         saveModelFor( EMOTION=emotion, model=trainModelFor(X, EMOTION=emotion) )\n",
    "#     elif(emotion == 3):\n",
    "#         saveModelFor( EMOTION=emotion, model=trainModelFor(X, EMOTION=emotion) )\n",
    "#     else:\n",
    "        saveModelFor( EMOTION=emotion, model=trainModelFor(X, y, EMOTION=emotion) )\n",
    "\n",
    "with Pool(processes = 6) as p: \n",
    "    p.map(trainAndSave, [i for i in range(len(emoNames))])"
   ]
  }
 ],
 "metadata": {
  "anaconda-cloud": {},
  "kernelspec": {
   "display_name": "Python [conda root]",
   "language": "python",
   "name": "conda-root-py"
  },
  "language_info": {
   "codemirror_mode": {
    "name": "ipython",
    "version": 3
   },
   "file_extension": ".py",
   "mimetype": "text/x-python",
   "name": "python",
   "nbconvert_exporter": "python",
   "pygments_lexer": "ipython3",
   "version": "3.5.2"
  }
 },
 "nbformat": 4,
 "nbformat_minor": 0
}
